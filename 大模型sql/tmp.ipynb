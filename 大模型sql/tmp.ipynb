{
 "cells": [
  {
   "cell_type": "code",
   "execution_count": 15,
   "metadata": {},
   "outputs": [],
   "source": [
    "import pandas as pd\n",
    "from pandasql import sqldf"
   ]
  },
  {
   "cell_type": "code",
   "execution_count": 12,
   "metadata": {},
   "outputs": [
    {
     "name": "stderr",
     "output_type": "stream",
     "text": [
      "/var/folders/3x/61_4d1nn0k5czsgcvzkg_7mw0000gn/T/ipykernel_25799/3683808127.py:6: FutureWarning: The behavior of DataFrame concatenation with empty or all-NA entries is deprecated. In a future version, this will no longer exclude empty or all-NA columns when determining the result dtypes. To retain the old behavior, exclude the relevant entries before the concat operation.\n",
      "  df = pd.concat([df,tdf],axis=0)\n"
     ]
    }
   ],
   "source": [
    "cols = ['name', 'id', 'company', 'total','dx','sj','cj','ot']\n",
    "df = pd.DataFrame(columns=cols)\n",
    "for i in range(2,8):\n",
    "    tdf = pd.read_excel('jfjx.xlsx',sheet_name=f'{i}')\n",
    "    tdf.columns = cols\n",
    "    df = pd.concat([df,tdf],axis=0)"
   ]
  },
  {
   "cell_type": "code",
   "execution_count": 23,
   "metadata": {},
   "outputs": [
    {
     "data": {
      "text/html": [
       "<div>\n",
       "<style scoped>\n",
       "    .dataframe tbody tr th:only-of-type {\n",
       "        vertical-align: middle;\n",
       "    }\n",
       "\n",
       "    .dataframe tbody tr th {\n",
       "        vertical-align: top;\n",
       "    }\n",
       "\n",
       "    .dataframe thead th {\n",
       "        text-align: right;\n",
       "    }\n",
       "</style>\n",
       "<table border=\"1\" class=\"dataframe\">\n",
       "  <thead>\n",
       "    <tr style=\"text-align: right;\">\n",
       "      <th></th>\n",
       "      <th>name</th>\n",
       "      <th>id</th>\n",
       "      <th>company</th>\n",
       "      <th>total</th>\n",
       "      <th>dx</th>\n",
       "      <th>sj</th>\n",
       "      <th>cj</th>\n",
       "      <th>ot</th>\n",
       "    </tr>\n",
       "  </thead>\n",
       "  <tbody>\n",
       "    <tr>\n",
       "      <th>0</th>\n",
       "      <td>傅颖珺</td>\n",
       "      <td>21010397</td>\n",
       "      <td>江苏星众数字科技有限公司</td>\n",
       "      <td>20.0</td>\n",
       "      <td>5.0</td>\n",
       "      <td>15.0</td>\n",
       "      <td>0.0</td>\n",
       "      <td>0.0</td>\n",
       "    </tr>\n",
       "    <tr>\n",
       "      <th>1</th>\n",
       "      <td>刘畅</td>\n",
       "      <td>88556534</td>\n",
       "      <td>江苏星众数字科技有限公司</td>\n",
       "      <td>20.0</td>\n",
       "      <td>0.0</td>\n",
       "      <td>0.0</td>\n",
       "      <td>20.0</td>\n",
       "      <td>0.0</td>\n",
       "    </tr>\n",
       "    <tr>\n",
       "      <th>2</th>\n",
       "      <td>赵玲芝</td>\n",
       "      <td>88564168</td>\n",
       "      <td>江苏星众数字科技有限公司</td>\n",
       "      <td>20.0</td>\n",
       "      <td>0.0</td>\n",
       "      <td>19.0</td>\n",
       "      <td>0.0</td>\n",
       "      <td>1.0</td>\n",
       "    </tr>\n",
       "    <tr>\n",
       "      <th>3</th>\n",
       "      <td>蒋春蕾</td>\n",
       "      <td>88570329</td>\n",
       "      <td>江苏星众数字科技有限公司</td>\n",
       "      <td>20.0</td>\n",
       "      <td>0.0</td>\n",
       "      <td>0.0</td>\n",
       "      <td>20.0</td>\n",
       "      <td>0.0</td>\n",
       "    </tr>\n",
       "    <tr>\n",
       "      <th>4</th>\n",
       "      <td>唐婷婷</td>\n",
       "      <td>88578114</td>\n",
       "      <td>江苏星众数字科技有限公司</td>\n",
       "      <td>20.0</td>\n",
       "      <td>2.0</td>\n",
       "      <td>0.0</td>\n",
       "      <td>20.0</td>\n",
       "      <td>0.0</td>\n",
       "    </tr>\n",
       "  </tbody>\n",
       "</table>\n",
       "</div>"
      ],
      "text/plain": [
       "  name        id       company  total   dx    sj    cj   ot\n",
       "0  傅颖珺  21010397  江苏星众数字科技有限公司   20.0  5.0  15.0   0.0  0.0\n",
       "1   刘畅  88556534  江苏星众数字科技有限公司   20.0  0.0   0.0  20.0  0.0\n",
       "2  赵玲芝  88564168  江苏星众数字科技有限公司   20.0  0.0  19.0   0.0  1.0\n",
       "3  蒋春蕾  88570329  江苏星众数字科技有限公司   20.0  0.0   0.0  20.0  0.0\n",
       "4  唐婷婷  88578114  江苏星众数字科技有限公司   20.0  2.0   0.0  20.0  0.0"
      ]
     },
     "execution_count": 23,
     "metadata": {},
     "output_type": "execute_result"
    }
   ],
   "source": [
    "df.fillna(0, inplace=True)\n",
    "df.head()"
   ]
  },
  {
   "cell_type": "code",
   "execution_count": 28,
   "metadata": {},
   "outputs": [
    {
     "data": {
      "text/plain": [
       "(23, 8)"
      ]
     },
     "execution_count": 28,
     "metadata": {},
     "output_type": "execute_result"
    }
   ],
   "source": [
    "sql='''\n",
    "select company,id,name,sum(total) as total\n",
    "    ,sum(dx) as dx\n",
    "    ,sum(sj) as sj\n",
    "   ,sum(cj) as cj\n",
    "  ,sum(ot) as ot\n",
    "from df\n",
    "group by company,id,name\n",
    "having sum(dx)>5\n",
    "order by dx desc\n",
    "'''\n",
    "tdf = sqldf(sql,locals())\n",
    "tdf.shape"
   ]
  },
  {
   "cell_type": "code",
   "execution_count": null,
   "metadata": {},
   "outputs": [],
   "source": []
  }
 ],
 "metadata": {
  "kernelspec": {
   "display_name": "base",
   "language": "python",
   "name": "python3"
  },
  "language_info": {
   "codemirror_mode": {
    "name": "ipython",
    "version": 3
   },
   "file_extension": ".py",
   "mimetype": "text/x-python",
   "name": "python",
   "nbconvert_exporter": "python",
   "pygments_lexer": "ipython3",
   "version": "3.12.4"
  },
  "orig_nbformat": 4
 },
 "nbformat": 4,
 "nbformat_minor": 2
}
